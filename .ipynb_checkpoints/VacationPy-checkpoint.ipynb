{
 "cells": [
  {
   "cell_type": "markdown",
   "metadata": {},
   "source": [
    "# VacationPy\n",
    "----\n",
    "\n",
    "#### Note\n",
    "* Keep an eye on your API usage. Use https://developers.google.com/maps/reporting/gmp-reporting as reference for how to monitor your usage and billing.\n",
    "\n",
    "* Instructions have been included for each segment. You do not have to follow them exactly, but they are included to help you think through the steps."
   ]
  },
  {
   "cell_type": "code",
   "execution_count": 7,
   "metadata": {},
   "outputs": [],
   "source": [
    "# Dependencies and Setup\n",
    "import matplotlib.pyplot as plt\n",
    "import pandas as pd\n",
    "import numpy as np\n",
    "import requests\n",
    "import gmaps\n",
    "import os\n",
    "\n",
    "# Import API key\n",
    "from api_keys import g_key\n"
   ]
  },
  {
   "cell_type": "markdown",
   "metadata": {},
   "source": [
    "### Store Part I results into DataFrame\n",
    "* Load the csv exported in Part I to a DataFrame"
   ]
  },
  {
   "cell_type": "code",
   "execution_count": 8,
   "metadata": {},
   "outputs": [
    {
     "data": {
      "text/html": [
       "<div>\n",
       "<style scoped>\n",
       "    .dataframe tbody tr th:only-of-type {\n",
       "        vertical-align: middle;\n",
       "    }\n",
       "\n",
       "    .dataframe tbody tr th {\n",
       "        vertical-align: top;\n",
       "    }\n",
       "\n",
       "    .dataframe thead th {\n",
       "        text-align: right;\n",
       "    }\n",
       "</style>\n",
       "<table border=\"1\" class=\"dataframe\">\n",
       "  <thead>\n",
       "    <tr style=\"text-align: right;\">\n",
       "      <th></th>\n",
       "      <th>City</th>\n",
       "      <th>Cloudiness</th>\n",
       "      <th>Country</th>\n",
       "      <th>Date</th>\n",
       "      <th>Humidity</th>\n",
       "      <th>Lat</th>\n",
       "      <th>Lng</th>\n",
       "      <th>Max Temp</th>\n",
       "      <th>Wind Speed</th>\n",
       "    </tr>\n",
       "  </thead>\n",
       "  <tbody>\n",
       "    <tr>\n",
       "      <th>0</th>\n",
       "      <td>Salalah</td>\n",
       "      <td>0</td>\n",
       "      <td>OM</td>\n",
       "      <td>1618515572</td>\n",
       "      <td>78</td>\n",
       "      <td>17.0151</td>\n",
       "      <td>54.0924</td>\n",
       "      <td>80.60</td>\n",
       "      <td>5.75</td>\n",
       "    </tr>\n",
       "    <tr>\n",
       "      <th>1</th>\n",
       "      <td>Gaurnadi</td>\n",
       "      <td>100</td>\n",
       "      <td>BD</td>\n",
       "      <td>1618515707</td>\n",
       "      <td>71</td>\n",
       "      <td>22.9667</td>\n",
       "      <td>90.2333</td>\n",
       "      <td>79.99</td>\n",
       "      <td>6.24</td>\n",
       "    </tr>\n",
       "    <tr>\n",
       "      <th>2</th>\n",
       "      <td>Littlehampton</td>\n",
       "      <td>20</td>\n",
       "      <td>GB</td>\n",
       "      <td>1618515450</td>\n",
       "      <td>61</td>\n",
       "      <td>50.8069</td>\n",
       "      <td>-0.5378</td>\n",
       "      <td>45.00</td>\n",
       "      <td>11.50</td>\n",
       "    </tr>\n",
       "    <tr>\n",
       "      <th>3</th>\n",
       "      <td>Buala</td>\n",
       "      <td>10</td>\n",
       "      <td>SB</td>\n",
       "      <td>1618515707</td>\n",
       "      <td>81</td>\n",
       "      <td>-8.1450</td>\n",
       "      <td>159.5921</td>\n",
       "      <td>79.56</td>\n",
       "      <td>2.13</td>\n",
       "    </tr>\n",
       "    <tr>\n",
       "      <th>4</th>\n",
       "      <td>Longonjo</td>\n",
       "      <td>100</td>\n",
       "      <td>AO</td>\n",
       "      <td>1618515708</td>\n",
       "      <td>85</td>\n",
       "      <td>-12.9067</td>\n",
       "      <td>15.2533</td>\n",
       "      <td>64.62</td>\n",
       "      <td>1.39</td>\n",
       "    </tr>\n",
       "  </tbody>\n",
       "</table>\n",
       "</div>"
      ],
      "text/plain": [
       "            City  Cloudiness Country        Date  Humidity      Lat       Lng  \\\n",
       "0        Salalah           0      OM  1618515572        78  17.0151   54.0924   \n",
       "1       Gaurnadi         100      BD  1618515707        71  22.9667   90.2333   \n",
       "2  Littlehampton          20      GB  1618515450        61  50.8069   -0.5378   \n",
       "3          Buala          10      SB  1618515707        81  -8.1450  159.5921   \n",
       "4       Longonjo         100      AO  1618515708        85 -12.9067   15.2533   \n",
       "\n",
       "   Max Temp  Wind Speed  \n",
       "0     80.60        5.75  \n",
       "1     79.99        6.24  \n",
       "2     45.00       11.50  \n",
       "3     79.56        2.13  \n",
       "4     64.62        1.39  "
      ]
     },
     "execution_count": 8,
     "metadata": {},
     "output_type": "execute_result"
    }
   ],
   "source": [
    "#load csv into dataframe\n",
    "load_csv = \"cities.csv\"\n",
    "city_df = pd.read_csv(load_csv)\n",
    "city_df.head()"
   ]
  },
  {
   "cell_type": "markdown",
   "metadata": {},
   "source": [
    "### Humidity Heatmap\n",
    "* Configure gmaps.\n",
    "* Use the Lat and Lng as locations and Humidity as the weight.\n",
    "* Add Heatmap layer to map."
   ]
  },
  {
   "cell_type": "code",
   "execution_count": 9,
   "metadata": {},
   "outputs": [],
   "source": [
    "#Configure gmaps\n",
    "gmaps.configure(api_key=g_key)"
   ]
  },
  {
   "cell_type": "code",
   "execution_count": 10,
   "metadata": {},
   "outputs": [],
   "source": [
    "#Store lat and lng as locations\n",
    "location = city_df[[\"Lat\", \"Lng\"]]\n",
    "humidity_rate = city_df[\"Humidity\"]\n"
   ]
  },
  {
   "cell_type": "code",
   "execution_count": 11,
   "metadata": {},
   "outputs": [
    {
     "data": {
      "application/vnd.jupyter.widget-view+json": {
       "model_id": "8d24d1124fc24ad1945d34efb687712d",
       "version_major": 2,
       "version_minor": 0
      },
      "text/plain": [
       "Figure(layout=FigureLayout(height='420px'))"
      ]
     },
     "metadata": {},
     "output_type": "display_data"
    }
   ],
   "source": [
    "#Create a heatmap\n",
    "fig = gmaps.figure()\n",
    "\n",
    "#Create heat layer\n",
    "heat_layer = gmaps.heatmap_layer(location, weights=humidity_rate,\n",
    "                                 dissipating=False, max_intensity=10,\n",
    "                                 point_radius=1)\n",
    "\n",
    "#Add layer\n",
    "fig.add_layer(heat_layer)\n",
    "\n",
    "#plt.savefig(\"vacationheatmap.png\")\n",
    "\n",
    "#Display figure\n",
    "fig\n"
   ]
  },
  {
   "cell_type": "markdown",
   "metadata": {},
   "source": [
    "### Create new DataFrame fitting weather criteria\n",
    "* Narrow down the cities to fit weather conditions.\n",
    "* Drop any rows will null values."
   ]
  },
  {
   "cell_type": "code",
   "execution_count": 12,
   "metadata": {},
   "outputs": [
    {
     "data": {
      "text/html": [
       "<div>\n",
       "<style scoped>\n",
       "    .dataframe tbody tr th:only-of-type {\n",
       "        vertical-align: middle;\n",
       "    }\n",
       "\n",
       "    .dataframe tbody tr th {\n",
       "        vertical-align: top;\n",
       "    }\n",
       "\n",
       "    .dataframe thead th {\n",
       "        text-align: right;\n",
       "    }\n",
       "</style>\n",
       "<table border=\"1\" class=\"dataframe\">\n",
       "  <thead>\n",
       "    <tr style=\"text-align: right;\">\n",
       "      <th></th>\n",
       "      <th>index</th>\n",
       "      <th>City</th>\n",
       "      <th>Cloudiness</th>\n",
       "      <th>Country</th>\n",
       "      <th>Date</th>\n",
       "      <th>Humidity</th>\n",
       "      <th>Lat</th>\n",
       "      <th>Lng</th>\n",
       "      <th>Max Temp</th>\n",
       "      <th>Wind Speed</th>\n",
       "    </tr>\n",
       "  </thead>\n",
       "  <tbody>\n",
       "    <tr>\n",
       "      <th>0</th>\n",
       "      <td>93</td>\n",
       "      <td>Buin</td>\n",
       "      <td>0</td>\n",
       "      <td>CL</td>\n",
       "      <td>1618515733</td>\n",
       "      <td>31</td>\n",
       "      <td>-33.7333</td>\n",
       "      <td>-70.7500</td>\n",
       "      <td>78.80</td>\n",
       "      <td>5.75</td>\n",
       "    </tr>\n",
       "    <tr>\n",
       "      <th>1</th>\n",
       "      <td>212</td>\n",
       "      <td>Saint-Philippe</td>\n",
       "      <td>0</td>\n",
       "      <td>RE</td>\n",
       "      <td>1618515768</td>\n",
       "      <td>78</td>\n",
       "      <td>-21.3585</td>\n",
       "      <td>55.7679</td>\n",
       "      <td>77.00</td>\n",
       "      <td>5.75</td>\n",
       "    </tr>\n",
       "    <tr>\n",
       "      <th>2</th>\n",
       "      <td>276</td>\n",
       "      <td>Inhambane</td>\n",
       "      <td>0</td>\n",
       "      <td>MZ</td>\n",
       "      <td>1618515788</td>\n",
       "      <td>83</td>\n",
       "      <td>-23.8650</td>\n",
       "      <td>35.3833</td>\n",
       "      <td>71.60</td>\n",
       "      <td>5.84</td>\n",
       "    </tr>\n",
       "    <tr>\n",
       "      <th>3</th>\n",
       "      <td>416</td>\n",
       "      <td>Umluj</td>\n",
       "      <td>0</td>\n",
       "      <td>SA</td>\n",
       "      <td>1618515832</td>\n",
       "      <td>42</td>\n",
       "      <td>25.0213</td>\n",
       "      <td>37.2685</td>\n",
       "      <td>78.64</td>\n",
       "      <td>6.26</td>\n",
       "    </tr>\n",
       "    <tr>\n",
       "      <th>4</th>\n",
       "      <td>422</td>\n",
       "      <td>Saint-Joseph</td>\n",
       "      <td>0</td>\n",
       "      <td>RE</td>\n",
       "      <td>1618515834</td>\n",
       "      <td>78</td>\n",
       "      <td>-21.3667</td>\n",
       "      <td>55.6167</td>\n",
       "      <td>77.00</td>\n",
       "      <td>5.75</td>\n",
       "    </tr>\n",
       "    <tr>\n",
       "      <th>5</th>\n",
       "      <td>531</td>\n",
       "      <td>Saint-Pierre</td>\n",
       "      <td>0</td>\n",
       "      <td>RE</td>\n",
       "      <td>1618515866</td>\n",
       "      <td>78</td>\n",
       "      <td>-21.3393</td>\n",
       "      <td>55.4781</td>\n",
       "      <td>77.00</td>\n",
       "      <td>5.75</td>\n",
       "    </tr>\n",
       "  </tbody>\n",
       "</table>\n",
       "</div>"
      ],
      "text/plain": [
       "   index            City  Cloudiness Country        Date  Humidity      Lat  \\\n",
       "0     93            Buin           0      CL  1618515733        31 -33.7333   \n",
       "1    212  Saint-Philippe           0      RE  1618515768        78 -21.3585   \n",
       "2    276       Inhambane           0      MZ  1618515788        83 -23.8650   \n",
       "3    416           Umluj           0      SA  1618515832        42  25.0213   \n",
       "4    422    Saint-Joseph           0      RE  1618515834        78 -21.3667   \n",
       "5    531    Saint-Pierre           0      RE  1618515866        78 -21.3393   \n",
       "\n",
       "       Lng  Max Temp  Wind Speed  \n",
       "0 -70.7500     78.80        5.75  \n",
       "1  55.7679     77.00        5.75  \n",
       "2  35.3833     71.60        5.84  \n",
       "3  37.2685     78.64        6.26  \n",
       "4  55.6167     77.00        5.75  \n",
       "5  55.4781     77.00        5.75  "
      ]
     },
     "execution_count": 12,
     "metadata": {},
     "output_type": "execute_result"
    }
   ],
   "source": [
    "#Create new DataFrame fitting weather criteria\n",
    "#Max temperature lower than 80 degrees but higher than 70\n",
    "#Wind speed less than 10 mph.\n",
    "#Zero cloudiness\n",
    "\n",
    "narrowed_city_df = city_df.copy()\n",
    "narrowed_city_df = narrowed_city_df[narrowed_city_df['Max Temp'] >= 70]\n",
    "narrowed_city_df = narrowed_city_df[narrowed_city_df['Max Temp'] <= 80]\n",
    "narrowed_city_df = narrowed_city_df[narrowed_city_df['Wind Speed'] <= 10]\n",
    "narrowed_city_df = narrowed_city_df[narrowed_city_df['Cloudiness'] == 0]\n",
    "narrowed_city_df = narrowed_city_df.dropna()\n",
    "narrowed_city_df = narrowed_city_df.reset_index()\n",
    "narrowed_city_df"
   ]
  },
  {
   "cell_type": "markdown",
   "metadata": {},
   "source": [
    "### Hotel Map\n",
    "* Store into variable named `hotel_df`.\n",
    "* Add a \"Hotel Name\" column to the DataFrame.\n",
    "* Set parameters to search for hotels with 5000 meters.\n",
    "* Hit the Google Places API for each city's coordinates.\n",
    "* Store the first Hotel result into the DataFrame.\n",
    "* Plot markers on top of the heatmap."
   ]
  },
  {
   "cell_type": "code",
   "execution_count": null,
   "metadata": {},
   "outputs": [],
   "source": []
  },
  {
   "cell_type": "code",
   "execution_count": null,
   "metadata": {},
   "outputs": [],
   "source": []
  },
  {
   "cell_type": "code",
   "execution_count": null,
   "metadata": {},
   "outputs": [],
   "source": [
    "# NOTE: Do not change any of the code in this cell\n",
    "\n",
    "# Using the template add the hotel marks to the heatmap\n",
    "info_box_template = \"\"\"\n",
    "<dl>\n",
    "<dt>Name</dt><dd>{Hotel Name}</dd>\n",
    "<dt>City</dt><dd>{City}</dd>\n",
    "<dt>Country</dt><dd>{Country}</dd>\n",
    "</dl>\n",
    "\"\"\"\n",
    "# Store the DataFrame Row\n",
    "# NOTE: be sure to update with your DataFrame name\n",
    "hotel_info = [info_box_template.format(**row) for index, row in hotel_df.iterrows()]\n",
    "locations = hotel_df[[\"Lat\", \"Lng\"]]"
   ]
  },
  {
   "cell_type": "code",
   "execution_count": null,
   "metadata": {},
   "outputs": [],
   "source": [
    "# Add marker layer ontop of heat map\n",
    "\n",
    "\n",
    "# Display figure\n"
   ]
  },
  {
   "cell_type": "code",
   "execution_count": null,
   "metadata": {},
   "outputs": [],
   "source": []
  }
 ],
 "metadata": {
  "kernelspec": {
   "display_name": "Python 3",
   "language": "python",
   "name": "python3"
  },
  "language_info": {
   "codemirror_mode": {
    "name": "ipython",
    "version": 3
   },
   "file_extension": ".py",
   "mimetype": "text/x-python",
   "name": "python",
   "nbconvert_exporter": "python",
   "pygments_lexer": "ipython3",
   "version": "3.8.5"
  },
  "latex_envs": {
   "LaTeX_envs_menu_present": true,
   "autoclose": false,
   "autocomplete": true,
   "bibliofile": "biblio.bib",
   "cite_by": "apalike",
   "current_citInitial": 1,
   "eqLabelWithNumbers": true,
   "eqNumInitial": 1,
   "hotkeys": {
    "equation": "Ctrl-E",
    "itemize": "Ctrl-I"
   },
   "labels_anchors": false,
   "latex_user_defs": false,
   "report_style_numbering": false,
   "user_envs_cfg": false
  }
 },
 "nbformat": 4,
 "nbformat_minor": 4
}
