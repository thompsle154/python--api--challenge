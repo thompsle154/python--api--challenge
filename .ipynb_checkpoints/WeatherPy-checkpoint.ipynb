{
 "cells": [
  {
   "cell_type": "markdown",
   "metadata": {},
   "source": [
    "# WeatherPy\n",
    "----\n",
    "\n",
    "#### Note\n",
    "* Instructions have been included for each segment. You do not have to follow them exactly, but they are included to help you think through the steps."
   ]
  },
  {
   "cell_type": "code",
   "execution_count": 4,
   "metadata": {
    "scrolled": true
   },
   "outputs": [],
   "source": [
    "# Dependencies and Setup\n",
    "import json\n",
    "import matplotlib.pyplot as plt\n",
    "import pandas as pd\n",
    "import numpy as np\n",
    "import requests\n",
    "import time\n",
    "from scipy.stats import linregress\n",
    "\n",
    "# Import API key\n",
    "from api_keys import weather_api_key\n",
    "\n",
    "# Incorporated citipy to determine city based on latitude and longitude\n",
    "from citipy import citipy\n",
    "\n",
    "# Output File (CSV)\n",
    "output_data_file = \"cities.csv\"\n",
    "\n",
    "# Range of latitudes and longitudes\n",
    "lat_range = (-90, 90)\n",
    "lng_range = (-180, 180)"
   ]
  },
  {
   "cell_type": "markdown",
   "metadata": {},
   "source": [
    "## Generate Cities List"
   ]
  },
  {
   "cell_type": "code",
   "execution_count": 5,
   "metadata": {},
   "outputs": [
    {
     "data": {
      "text/plain": [
       "613"
      ]
     },
     "execution_count": 5,
     "metadata": {},
     "output_type": "execute_result"
    }
   ],
   "source": [
    "# List for holding lat_lngs and cities\n",
    "lat_lngs = []\n",
    "cities = []\n",
    "\n",
    "# Create a set of random lat and lng combinations\n",
    "lats = np.random.uniform(lat_range[0], lat_range[1], size=1500)\n",
    "lngs = np.random.uniform(lng_range[0], lng_range[1], size=1500)\n",
    "lat_lngs = zip(lats, lngs)\n",
    "\n",
    "# Identify nearest city for each lat, lng combination\n",
    "for lat_lng in lat_lngs:\n",
    "    city = citipy.nearest_city(lat_lng[0], lat_lng[1]).city_name\n",
    "    \n",
    "    # If the city is unique, then add it to a our cities list\n",
    "    if city not in cities:\n",
    "        cities.append(city)\n",
    "\n",
    "# Print the city count to confirm sufficient count\n",
    "len(cities)"
   ]
  },
  {
   "cell_type": "markdown",
   "metadata": {},
   "source": [
    "### Perform API Calls\n",
    "* Perform a weather check on each city using a series of successive API calls.\n",
    "* Include a print log of each city as it'sbeing processed (with the city number and city name).\n"
   ]
  },
  {
   "cell_type": "code",
   "execution_count": 6,
   "metadata": {},
   "outputs": [
    {
     "name": "stdout",
     "output_type": "stream",
     "text": [
      "City not found. Skipping...\n",
      "Processing record 2 of Set 1 | ghanzi\n",
      "Processing record 3 of Set 1 | bredasdorp\n",
      "Processing record 4 of Set 1 | ushuaia\n",
      "Processing record 5 of Set 1 | margate\n",
      "Processing record 6 of Set 1 | bethel\n",
      "Processing record 7 of Set 1 | pochutla\n",
      "Processing record 8 of Set 1 | lashio\n",
      "Processing record 9 of Set 1 | butaritari\n",
      "Processing record 10 of Set 1 | nioro\n",
      "Processing record 11 of Set 1 | vangaindrano\n",
      "City not found. Skipping...\n",
      "Processing record 13 of Set 1 | ancud\n",
      "Processing record 14 of Set 1 | busselton\n",
      "Processing record 15 of Set 1 | touros\n",
      "Processing record 16 of Set 1 | mnogovershinnyy\n",
      "Processing record 17 of Set 1 | pacific grove\n",
      "Processing record 18 of Set 1 | novyy urengoy\n",
      "Processing record 19 of Set 1 | bluff\n",
      "Processing record 20 of Set 1 | georgetown\n",
      "Processing record 21 of Set 1 | yar-sale\n",
      "Processing record 22 of Set 1 | sinnamary\n",
      "Processing record 23 of Set 1 | fortuna\n",
      "Processing record 24 of Set 1 | rikitea\n",
      "Processing record 25 of Set 1 | kapaa\n",
      "Processing record 26 of Set 1 | inuvik\n",
      "Processing record 27 of Set 1 | bambous virieux\n",
      "Processing record 28 of Set 1 | kuching\n",
      "Processing record 29 of Set 1 | lompoc\n",
      "Processing record 30 of Set 1 | berlevag\n",
      "Processing record 31 of Set 1 | bengkulu\n",
      "Processing record 32 of Set 1 | vao\n",
      "Processing record 33 of Set 1 | ayia galini\n",
      "Processing record 34 of Set 1 | hermanus\n",
      "Processing record 35 of Set 1 | monrovia\n",
      "Processing record 36 of Set 1 | richards bay\n",
      "Processing record 37 of Set 1 | tasiilaq\n",
      "Processing record 38 of Set 1 | mahebourg\n",
      "Processing record 39 of Set 1 | hirara\n",
      "Processing record 40 of Set 1 | yellowknife\n",
      "Processing record 41 of Set 1 | tilichiki\n",
      "Processing record 42 of Set 1 | burnie\n",
      "Processing record 43 of Set 1 | bonavista\n",
      "Processing record 44 of Set 1 | hobart\n",
      "City not found. Skipping...\n",
      "City not found. Skipping...\n",
      "Processing record 47 of Set 1 | nome\n",
      "Processing record 48 of Set 1 | saskylakh\n",
      "Processing record 49 of Set 1 | henties bay\n",
      "Processing record 0 of Set 2 | punta arenas\n",
      "Processing record 1 of Set 2 | oranjemund\n",
      "Processing record 2 of Set 2 | port alfred\n",
      "Processing record 3 of Set 2 | santana\n",
      "Processing record 4 of Set 2 | arraial do cabo\n",
      "City not found. Skipping...\n",
      "Processing record 6 of Set 2 | lavrentiya\n",
      "Processing record 7 of Set 2 | saint-philippe\n",
      "Processing record 8 of Set 2 | sur\n",
      "City not found. Skipping...\n",
      "Processing record 10 of Set 2 | mosquera\n",
      "Processing record 11 of Set 2 | dingle\n",
      "Processing record 12 of Set 2 | hilo\n",
      "Processing record 13 of Set 2 | tura\n",
      "Processing record 14 of Set 2 | salalah\n",
      "Processing record 15 of Set 2 | komarikhinskiy\n",
      "Processing record 16 of Set 2 | kavaratti\n",
      "Processing record 17 of Set 2 | puerto del rosario\n",
      "Processing record 18 of Set 2 | airai\n",
      "City not found. Skipping...\n",
      "Processing record 20 of Set 2 | tadine\n",
      "Processing record 21 of Set 2 | khatanga\n",
      "City not found. Skipping...\n",
      "Processing record 23 of Set 2 | albany\n",
      "City not found. Skipping...\n",
      "Processing record 25 of Set 2 | tamandare\n",
      "Processing record 26 of Set 2 | kaitangata\n",
      "Processing record 27 of Set 2 | cape town\n",
      "Processing record 28 of Set 2 | vestmannaeyjar\n",
      "Processing record 29 of Set 2 | mataura\n",
      "Processing record 30 of Set 2 | sechura\n",
      "Processing record 31 of Set 2 | doische\n",
      "Processing record 32 of Set 2 | dire\n",
      "Processing record 33 of Set 2 | tabat\n",
      "Processing record 34 of Set 2 | evensk\n",
      "Processing record 35 of Set 2 | tecoanapa\n",
      "Processing record 36 of Set 2 | codrington\n",
      "Processing record 37 of Set 2 | puerto ayora\n",
      "Processing record 38 of Set 2 | duma\n",
      "City not found. Skipping...\n",
      "Processing record 40 of Set 2 | iqaluit\n",
      "Processing record 41 of Set 2 | meulaboh\n",
      "Processing record 42 of Set 2 | kruisfontein\n",
      "Processing record 43 of Set 2 | barrow\n",
      "City not found. Skipping...\n",
      "Processing record 45 of Set 2 | ust-nera\n",
      "City not found. Skipping...\n",
      "Processing record 47 of Set 2 | clyde river\n",
      "Processing record 48 of Set 2 | carupano\n",
      "Processing record 49 of Set 2 | petrozavodsk\n",
      "Processing record 0 of Set 3 | puerto escondido\n",
      "Processing record 1 of Set 3 | yulara\n",
      "Processing record 2 of Set 3 | saint-prosper\n",
      "Processing record 3 of Set 3 | ponta do sol\n",
      "Processing record 4 of Set 3 | firovo\n",
      "Processing record 5 of Set 3 | lopsmarka\n",
      "City not found. Skipping...\n",
      "Processing record 7 of Set 3 | chokurdakh\n",
      "Processing record 8 of Set 3 | luganville\n",
      "City not found. Skipping...\n",
      "Processing record 10 of Set 3 | cherskiy\n",
      "Processing record 11 of Set 3 | jamestown\n",
      "Processing record 12 of Set 3 | avarua\n",
      "Processing record 13 of Set 3 | dikson\n",
      "Processing record 14 of Set 3 | keti bandar\n",
      "Processing record 15 of Set 3 | cidreira\n",
      "Processing record 16 of Set 3 | pontal do parana\n",
      "Processing record 17 of Set 3 | yauya\n",
      "Processing record 18 of Set 3 | tuktoyaktuk\n",
      "Processing record 19 of Set 3 | ambon\n",
      "City not found. Skipping...\n",
      "Processing record 21 of Set 3 | pisco\n",
      "Processing record 22 of Set 3 | rocha\n",
      "Processing record 23 of Set 3 | dongying\n",
      "Processing record 24 of Set 3 | hithadhoo\n",
      "City not found. Skipping...\n",
      "City not found. Skipping...\n",
      "Processing record 27 of Set 3 | qaqortoq\n",
      "Processing record 28 of Set 3 | jalu\n",
      "Processing record 29 of Set 3 | kodiak\n",
      "Processing record 30 of Set 3 | kagoro\n",
      "Processing record 31 of Set 3 | esso\n",
      "Processing record 32 of Set 3 | laguna de perlas\n",
      "City not found. Skipping...\n",
      "Processing record 34 of Set 3 | carballo\n",
      "Processing record 35 of Set 3 | leh\n",
      "Processing record 36 of Set 3 | ahipara\n",
      "Processing record 37 of Set 3 | bonga\n",
      "Processing record 38 of Set 3 | platanos\n",
      "Processing record 39 of Set 3 | kloulklubed\n",
      "Processing record 40 of Set 3 | hokitika\n",
      "City not found. Skipping...\n",
      "Processing record 42 of Set 3 | geraldton\n",
      "Processing record 43 of Set 3 | rimouski\n",
      "City not found. Skipping...\n",
      "Processing record 45 of Set 3 | nyurba\n",
      "Processing record 46 of Set 3 | byron bay\n",
      "Processing record 47 of Set 3 | new norfolk\n",
      "Processing record 48 of Set 3 | faanui\n",
      "Processing record 49 of Set 3 | mar del plata\n",
      "Processing record 0 of Set 4 | bulungu\n",
      "Processing record 1 of Set 4 | atuona\n",
      "City not found. Skipping...\n",
      "Processing record 3 of Set 4 | rio gallegos\n",
      "Processing record 4 of Set 4 | kysyl-syr\n",
      "Processing record 5 of Set 4 | pitimbu\n",
      "Processing record 6 of Set 4 | kropotkin\n",
      "Processing record 7 of Set 4 | harwich\n",
      "Processing record 8 of Set 4 | norman wells\n",
      "Processing record 9 of Set 4 | comodoro rivadavia\n",
      "Processing record 10 of Set 4 | san cristobal\n",
      "Processing record 11 of Set 4 | san quintin\n",
      "Processing record 12 of Set 4 | yamada\n",
      "Processing record 13 of Set 4 | gari\n",
      "Processing record 14 of Set 4 | visby\n",
      "Processing record 15 of Set 4 | nikolskoye\n",
      "Processing record 16 of Set 4 | nanortalik\n",
      "Processing record 17 of Set 4 | vila franca do campo\n",
      "Processing record 18 of Set 4 | palauig\n",
      "City not found. Skipping...\n",
      "Processing record 20 of Set 4 | saint-francois\n",
      "Processing record 21 of Set 4 | igrim\n",
      "Processing record 22 of Set 4 | otradnoye\n",
      "Processing record 23 of Set 4 | vaini\n",
      "Processing record 24 of Set 4 | ornskoldsvik\n",
      "Processing record 25 of Set 4 | nyimba\n",
      "Processing record 26 of Set 4 | sao jose da coroa grande\n",
      "City not found. Skipping...\n",
      "Processing record 28 of Set 4 | fairbanks\n",
      "Processing record 29 of Set 4 | shenjiamen\n",
      "City not found. Skipping...\n",
      "Processing record 31 of Set 4 | qaanaaq\n",
      "Processing record 32 of Set 4 | palmer\n",
      "City not found. Skipping...\n",
      "Processing record 34 of Set 4 | puerto madryn\n",
      "Processing record 35 of Set 4 | russell\n",
      "Processing record 36 of Set 4 | texarkana\n",
      "Processing record 37 of Set 4 | bollnas\n",
      "Processing record 38 of Set 4 | severo-kurilsk\n",
      "Processing record 39 of Set 4 | torbay\n",
      "Processing record 40 of Set 4 | maiduguri\n",
      "Processing record 41 of Set 4 | castro\n",
      "Processing record 42 of Set 4 | tutoia\n",
      "Processing record 43 of Set 4 | tessalit\n",
      "Processing record 44 of Set 4 | farafenni\n",
      "Processing record 45 of Set 4 | baie-comeau\n",
      "Processing record 46 of Set 4 | camana\n",
      "City not found. Skipping...\n",
      "Processing record 48 of Set 4 | fez\n",
      "Processing record 49 of Set 4 | kaeo\n",
      "Processing record 0 of Set 5 | wajima\n",
      "Processing record 1 of Set 5 | diffa\n",
      "Processing record 2 of Set 5 | zhanakorgan\n",
      "Processing record 3 of Set 5 | aklavik\n",
      "Processing record 4 of Set 5 | novopokrovka\n",
      "Processing record 5 of Set 5 | esperance\n",
      "Processing record 6 of Set 5 | zhigansk\n",
      "Processing record 7 of Set 5 | marovoay\n"
     ]
    },
    {
     "name": "stdout",
     "output_type": "stream",
     "text": [
      "Processing record 8 of Set 5 | flinders\n",
      "Processing record 9 of Set 5 | belawan\n",
      "Processing record 10 of Set 5 | manaia\n",
      "Processing record 11 of Set 5 | cayenne\n",
      "Processing record 12 of Set 5 | san patricio\n",
      "Processing record 13 of Set 5 | ahuimanu\n",
      "City not found. Skipping...\n",
      "Processing record 15 of Set 5 | drayton valley\n",
      "Processing record 16 of Set 5 | cabo san lucas\n",
      "Processing record 17 of Set 5 | rincon de la victoria\n",
      "Processing record 18 of Set 5 | kalmar\n",
      "Processing record 19 of Set 5 | cerrito\n",
      "Processing record 20 of Set 5 | vanavara\n",
      "Processing record 21 of Set 5 | normandin\n",
      "Processing record 22 of Set 5 | north bend\n",
      "City not found. Skipping...\n",
      "Processing record 24 of Set 5 | kahului\n",
      "Processing record 25 of Set 5 | sao filipe\n",
      "Processing record 26 of Set 5 | hasaki\n",
      "Processing record 27 of Set 5 | bastia\n",
      "Processing record 28 of Set 5 | morehead\n",
      "Processing record 29 of Set 5 | upernavik\n",
      "Processing record 30 of Set 5 | at-bashi\n",
      "Processing record 31 of Set 5 | mao\n",
      "Processing record 32 of Set 5 | talaya\n",
      "Processing record 33 of Set 5 | mombetsu\n",
      "Processing record 34 of Set 5 | olinda\n",
      "Processing record 35 of Set 5 | korla\n",
      "Processing record 36 of Set 5 | aden\n",
      "Processing record 37 of Set 5 | coquimbo\n",
      "Processing record 38 of Set 5 | santa rosa\n",
      "Processing record 39 of Set 5 | amambai\n",
      "City not found. Skipping...\n",
      "Processing record 41 of Set 5 | bafq\n",
      "City not found. Skipping...\n",
      "Processing record 43 of Set 5 | bima\n",
      "Processing record 44 of Set 5 | talnakh\n",
      "Processing record 45 of Set 5 | nushki\n",
      "Processing record 46 of Set 5 | phatthalung\n",
      "Processing record 47 of Set 5 | santiago de chuco\n",
      "Processing record 48 of Set 5 | havelock\n",
      "Processing record 49 of Set 5 | ussel\n",
      "Processing record 0 of Set 6 | linxia\n",
      "City not found. Skipping...\n",
      "Processing record 2 of Set 6 | saint anthony\n",
      "Processing record 3 of Set 6 | vila velha\n",
      "Processing record 4 of Set 6 | tiquisio\n",
      "Processing record 5 of Set 6 | shizunai\n",
      "Processing record 6 of Set 6 | gebre guracha\n",
      "Processing record 7 of Set 6 | sorland\n",
      "Processing record 8 of Set 6 | borba\n",
      "Processing record 9 of Set 6 | mutoko\n",
      "Processing record 10 of Set 6 | port blair\n",
      "Processing record 11 of Set 6 | liaozhong\n",
      "Processing record 12 of Set 6 | faya\n",
      "Processing record 13 of Set 6 | te anau\n",
      "Processing record 14 of Set 6 | pailon\n",
      "Processing record 15 of Set 6 | aginskoye\n",
      "Processing record 16 of Set 6 | murillo\n",
      "Processing record 17 of Set 6 | maloyaroslavets\n",
      "Processing record 18 of Set 6 | newry\n",
      "Processing record 19 of Set 6 | teluknaga\n",
      "Processing record 20 of Set 6 | east london\n",
      "Processing record 21 of Set 6 | agirish\n",
      "Processing record 22 of Set 6 | poya\n",
      "Processing record 23 of Set 6 | khingansk\n",
      "Processing record 24 of Set 6 | ribeira grande\n",
      "Processing record 25 of Set 6 | alofi\n",
      "Processing record 26 of Set 6 | canto do buriti\n",
      "Processing record 27 of Set 6 | zambezi\n",
      "Processing record 28 of Set 6 | imbituba\n",
      "Processing record 29 of Set 6 | chapais\n",
      "Processing record 30 of Set 6 | twentynine palms\n",
      "Processing record 31 of Set 6 | umm lajj\n",
      "Processing record 32 of Set 6 | santiago de las vegas\n",
      "Processing record 33 of Set 6 | baleshwar\n",
      "Processing record 34 of Set 6 | manokwari\n",
      "Processing record 35 of Set 6 | tha bo\n",
      "Processing record 36 of Set 6 | waverly\n",
      "Processing record 37 of Set 6 | virginia beach\n",
      "Processing record 38 of Set 6 | maputo\n",
      "Processing record 39 of Set 6 | terrace bay\n",
      "Processing record 40 of Set 6 | pevek\n",
      "Processing record 41 of Set 6 | matamoros\n",
      "Processing record 42 of Set 6 | trinidad\n",
      "Processing record 43 of Set 6 | ust-kut\n",
      "City not found. Skipping...\n",
      "Processing record 45 of Set 6 | zhezkazgan\n",
      "Processing record 46 of Set 6 | romny\n",
      "Processing record 47 of Set 6 | hay river\n",
      "Processing record 48 of Set 6 | uray\n",
      "Processing record 49 of Set 6 | troy\n",
      "Processing record 0 of Set 7 | nyrob\n",
      "City not found. Skipping...\n",
      "Processing record 2 of Set 7 | soyo\n",
      "Processing record 3 of Set 7 | batagay-alyta\n",
      "Processing record 4 of Set 7 | lata\n",
      "Processing record 5 of Set 7 | barmer\n",
      "Processing record 6 of Set 7 | san francisco\n",
      "Processing record 7 of Set 7 | salvador\n",
      "Processing record 8 of Set 7 | voh\n",
      "City not found. Skipping...\n",
      "Processing record 10 of Set 7 | daru\n",
      "Processing record 11 of Set 7 | laviana\n",
      "Processing record 12 of Set 7 | sitka\n",
      "Processing record 13 of Set 7 | nadym\n",
      "Processing record 14 of Set 7 | lakhi\n",
      "Processing record 15 of Set 7 | zaqatala\n",
      "Processing record 16 of Set 7 | bemidji\n",
      "Processing record 17 of Set 7 | moose jaw\n",
      "Processing record 18 of Set 7 | husavik\n",
      "Processing record 19 of Set 7 | santa maria\n",
      "Processing record 20 of Set 7 | alice springs\n",
      "Processing record 21 of Set 7 | tolaga bay\n",
      "Processing record 22 of Set 7 | tiksi\n",
      "Processing record 23 of Set 7 | tricase\n",
      "Processing record 24 of Set 7 | dingzhou\n",
      "Processing record 25 of Set 7 | guiratinga\n",
      "Processing record 26 of Set 7 | makakilo city\n",
      "Processing record 27 of Set 7 | carnarvon\n",
      "Processing record 28 of Set 7 | souillac\n",
      "Processing record 29 of Set 7 | srirampur\n",
      "City not found. Skipping...\n",
      "Processing record 31 of Set 7 | salinopolis\n",
      "Processing record 32 of Set 7 | port-gentil\n",
      "Processing record 33 of Set 7 | starkville\n",
      "Processing record 34 of Set 7 | tamala\n",
      "Processing record 35 of Set 7 | salta\n",
      "Processing record 36 of Set 7 | sovetskiy\n",
      "Processing record 37 of Set 7 | hofn\n",
      "Processing record 38 of Set 7 | lincoln\n",
      "City not found. Skipping...\n",
      "Processing record 40 of Set 7 | wanning\n",
      "Processing record 41 of Set 7 | asau\n",
      "Processing record 42 of Set 7 | kurilsk\n",
      "City not found. Skipping...\n",
      "Processing record 44 of Set 7 | maniitsoq\n",
      "Processing record 45 of Set 7 | gushikawa\n",
      "Processing record 46 of Set 7 | batsfjord\n",
      "Processing record 47 of Set 7 | krasnyy luch\n",
      "Processing record 48 of Set 7 | mount isa\n",
      "Processing record 49 of Set 7 | haines junction\n",
      "Processing record 0 of Set 8 | tocache\n",
      "Processing record 1 of Set 8 | saint simons\n",
      "Processing record 2 of Set 8 | dubbo\n",
      "Processing record 3 of Set 8 | abha\n",
      "City not found. Skipping...\n",
      "Processing record 5 of Set 8 | defiance\n",
      "Processing record 6 of Set 8 | montgomery village\n",
      "Processing record 7 of Set 8 | longyearbyen\n",
      "Processing record 8 of Set 8 | tucurui\n",
      "Processing record 9 of Set 8 | conceicao da barra\n",
      "Processing record 10 of Set 8 | porto nacional\n",
      "Processing record 11 of Set 8 | banda aceh\n",
      "Processing record 12 of Set 8 | choya\n",
      "Processing record 13 of Set 8 | qandala\n",
      "Processing record 14 of Set 8 | tuatapere\n",
      "Processing record 15 of Set 8 | acari\n",
      "Processing record 16 of Set 8 | dicabisagan\n",
      "Processing record 17 of Set 8 | guerrero negro\n",
      "Processing record 18 of Set 8 | ixtapa\n",
      "Processing record 19 of Set 8 | turbat\n",
      "Processing record 20 of Set 8 | victoria\n",
      "Processing record 21 of Set 8 | awbari\n",
      "Processing record 22 of Set 8 | luderitz\n",
      "Processing record 23 of Set 8 | san andres\n",
      "Processing record 24 of Set 8 | hamilton\n",
      "Processing record 25 of Set 8 | shubarkuduk\n",
      "City not found. Skipping...\n",
      "Processing record 27 of Set 8 | muravlenko\n",
      "Processing record 28 of Set 8 | port elizabeth\n",
      "Processing record 29 of Set 8 | oranjestad\n",
      "Processing record 30 of Set 8 | champasak\n",
      "Processing record 31 of Set 8 | qena\n",
      "Processing record 32 of Set 8 | cap malheureux\n",
      "Processing record 33 of Set 8 | ocumare del tuy\n",
      "Processing record 34 of Set 8 | jawhar\n",
      "Processing record 35 of Set 8 | kayerkan\n",
      "Processing record 36 of Set 8 | sokoni\n",
      "Processing record 37 of Set 8 | muros\n",
      "City not found. Skipping...\n",
      "City not found. Skipping...\n",
      "Processing record 40 of Set 8 | tulagi\n",
      "City not found. Skipping...\n",
      "City not found. Skipping...\n",
      "Processing record 43 of Set 8 | williams lake\n",
      "Processing record 44 of Set 8 | ayagoz\n",
      "Processing record 45 of Set 8 | lafia\n",
      "Processing record 46 of Set 8 | arman\n",
      "Processing record 47 of Set 8 | nampa\n",
      "Processing record 48 of Set 8 | boende\n",
      "Processing record 49 of Set 8 | baykit\n",
      "Processing record 0 of Set 9 | pavino\n",
      "Processing record 1 of Set 9 | ponta delgada\n",
      "Processing record 2 of Set 9 | safonovo\n",
      "Processing record 3 of Set 9 | nemuro\n",
      "Processing record 4 of Set 9 | sabya\n",
      "Processing record 5 of Set 9 | port hardy\n",
      "Processing record 6 of Set 9 | portland\n",
      "Processing record 7 of Set 9 | darab\n",
      "Processing record 8 of Set 9 | balikpapan\n",
      "Processing record 9 of Set 9 | turukhansk\n",
      "City not found. Skipping...\n",
      "Processing record 11 of Set 9 | anadyr\n",
      "Processing record 12 of Set 9 | lang suan\n"
     ]
    },
    {
     "name": "stdout",
     "output_type": "stream",
     "text": [
      "Processing record 13 of Set 9 | ilo\n",
      "Processing record 14 of Set 9 | mazamari\n",
      "Processing record 15 of Set 9 | lannion\n",
      "Processing record 16 of Set 9 | champua\n",
      "Processing record 17 of Set 9 | cuauhtemoc\n",
      "Processing record 18 of Set 9 | maragogi\n",
      "Processing record 19 of Set 9 | zlatoust\n",
      "Processing record 20 of Set 9 | tautira\n",
      "Processing record 21 of Set 9 | praia\n",
      "City not found. Skipping...\n",
      "City not found. Skipping...\n",
      "Processing record 24 of Set 9 | pemba\n",
      "Processing record 25 of Set 9 | verkhnevilyuysk\n",
      "Processing record 26 of Set 9 | kasempa\n",
      "Processing record 27 of Set 9 | bilma\n",
      "Processing record 28 of Set 9 | vostok\n",
      "Processing record 29 of Set 9 | limulan\n",
      "Processing record 30 of Set 9 | opuwo\n",
      "Processing record 31 of Set 9 | seoul\n",
      "Processing record 32 of Set 9 | katsuura\n",
      "Processing record 33 of Set 9 | christchurch\n",
      "Processing record 34 of Set 9 | juneau\n",
      "Processing record 35 of Set 9 | pedro ii\n",
      "Processing record 36 of Set 9 | jimma\n",
      "Processing record 37 of Set 9 | naziya\n",
      "City not found. Skipping...\n",
      "Processing record 39 of Set 9 | ilulissat\n",
      "Processing record 40 of Set 9 | sapa\n",
      "Processing record 41 of Set 9 | rancho palos verdes\n",
      "Processing record 42 of Set 9 | mount gambier\n",
      "Processing record 43 of Set 9 | japura\n",
      "Processing record 44 of Set 9 | ust-omchug\n",
      "Processing record 45 of Set 9 | lagoa\n",
      "Processing record 46 of Set 9 | dingli\n",
      "Processing record 47 of Set 9 | barth\n",
      "Processing record 48 of Set 9 | talakan\n",
      "Processing record 49 of Set 9 | makat\n",
      "Processing record 0 of Set 10 | kavieng\n",
      "Processing record 1 of Set 10 | dunedin\n",
      "Processing record 2 of Set 10 | veere\n",
      "Processing record 3 of Set 10 | ondjiva\n",
      "Processing record 4 of Set 10 | yamaranguila\n",
      "Processing record 5 of Set 10 | betera\n",
      "Processing record 6 of Set 10 | miri\n",
      "Processing record 7 of Set 10 | sioux lookout\n",
      "Processing record 8 of Set 10 | guarapari\n",
      "Processing record 9 of Set 10 | doha\n",
      "Processing record 10 of Set 10 | quata\n",
      "Processing record 11 of Set 10 | chuy\n",
      "Processing record 12 of Set 10 | aktash\n",
      "City not found. Skipping...\n",
      "Processing record 14 of Set 10 | erenhot\n",
      "Processing record 15 of Set 10 | sorong\n",
      "Processing record 16 of Set 10 | vardo\n",
      "Processing record 17 of Set 10 | annino\n",
      "Processing record 18 of Set 10 | klaksvik\n",
      "Processing record 19 of Set 10 | dwarka\n",
      "Processing record 20 of Set 10 | martapura\n",
      "Processing record 21 of Set 10 | kununurra\n",
      "Processing record 22 of Set 10 | iskateley\n",
      "Processing record 23 of Set 10 | adrar\n",
      "Processing record 24 of Set 10 | paita\n",
      "Processing record 25 of Set 10 | gornyy\n",
      "Processing record 26 of Set 10 | camabatela\n",
      "Processing record 27 of Set 10 | thompson\n",
      "Processing record 28 of Set 10 | porto novo\n",
      "Processing record 29 of Set 10 | republic\n",
      "Processing record 30 of Set 10 | tsaratanana\n",
      "Processing record 31 of Set 10 | erzin\n",
      "Processing record 32 of Set 10 | leningradskiy\n",
      "Processing record 33 of Set 10 | idah\n",
      "Processing record 34 of Set 10 | pringsewu\n",
      "Processing record 35 of Set 10 | dulyapino\n",
      "Processing record 36 of Set 10 | franca\n",
      "Processing record 37 of Set 10 | podgornoye\n",
      "Processing record 38 of Set 10 | manama\n",
      "Processing record 39 of Set 10 | washougal\n",
      "Processing record 40 of Set 10 | ende\n",
      "Processing record 41 of Set 10 | donskoye\n",
      "Processing record 42 of Set 10 | ushtobe\n",
      "Processing record 43 of Set 10 | goma\n",
      "Processing record 44 of Set 10 | san pedro\n",
      "Processing record 45 of Set 10 | itarema\n",
      "Processing record 46 of Set 10 | omboue\n",
      "Processing record 47 of Set 10 | poum\n",
      "Processing record 48 of Set 10 | tequila\n",
      "Processing record 49 of Set 10 | pangnirtung\n",
      "City not found. Skipping...\n",
      "Processing record 51 of Set 10 | angoche\n",
      "Processing record 52 of Set 10 | hambantota\n",
      "Processing record 53 of Set 10 | tazovskiy\n",
      "Processing record 54 of Set 10 | muisne\n",
      "Processing record 55 of Set 10 | chokwe\n",
      "Processing record 56 of Set 10 | koutsouras\n",
      "Processing record 57 of Set 10 | de aar\n",
      "Processing record 58 of Set 10 | xining\n",
      "City not found. Skipping...\n",
      "Processing record 60 of Set 10 | ashqelon\n",
      "Processing record 61 of Set 10 | bandarbeyla\n",
      "Processing record 62 of Set 10 | beloha\n",
      "Processing record 63 of Set 10 | broome\n",
      "Processing record 64 of Set 10 | lebu\n",
      "Processing record 65 of Set 10 | krasnogorsk\n",
      "Processing record 66 of Set 10 | gazanjyk\n",
      "Processing record 67 of Set 10 | zyryanka\n",
      "Processing record 68 of Set 10 | razole\n",
      "Processing record 69 of Set 10 | yablonovo\n",
      "Processing record 70 of Set 10 | nago\n",
      "Processing record 71 of Set 10 | dunda\n",
      "City not found. Skipping...\n",
      "Processing record 73 of Set 10 | dzilam gonzalez\n",
      "Processing record 74 of Set 10 | eqbaliyeh\n",
      "Processing record 75 of Set 10 | fort nelson\n",
      "Processing record 76 of Set 10 | caravelas\n",
      "Processing record 77 of Set 10 | havoysund\n",
      "Processing record 78 of Set 10 | agidel\n",
      "Processing record 79 of Set 10 | buala\n",
      "Processing record 80 of Set 10 | montoro\n",
      "Processing record 81 of Set 10 | eyl\n",
      "Processing record 82 of Set 10 | nador\n",
      "Processing record 83 of Set 10 | deputatskiy\n",
      "City not found. Skipping...\n",
      "Processing record 85 of Set 10 | saldanha\n",
      "Processing record 86 of Set 10 | kungurtug\n",
      "Processing record 87 of Set 10 | denpasar\n",
      "Processing record 88 of Set 10 | grindavik\n",
      "Processing record 89 of Set 10 | fernley\n",
      "Processing record 90 of Set 10 | alekseyevsk\n",
      "City not found. Skipping...\n",
      "Processing record 92 of Set 10 | melnikovo\n",
      "Processing record 93 of Set 10 | elbistan\n",
      "Processing record 94 of Set 10 | kieta\n",
      "Processing record 95 of Set 10 | bukoba\n",
      "Processing record 96 of Set 10 | nhulunbuy\n",
      "Processing record 97 of Set 10 | acajutla\n",
      "Processing record 98 of Set 10 | san carlos de bariloche\n",
      "Processing record 99 of Set 10 | saint-pierre\n",
      "Processing record 100 of Set 10 | mocuba\n",
      "Processing record 101 of Set 10 | igboho\n",
      "Processing record 102 of Set 10 | jiuquan\n",
      "Processing record 103 of Set 10 | loa janan\n",
      "Processing record 104 of Set 10 | naze\n",
      "Processing record 105 of Set 10 | eldoret\n",
      "Processing record 106 of Set 10 | guozhen\n",
      "Processing record 107 of Set 10 | salsomaggiore terme\n",
      "Processing record 108 of Set 10 | aykhal\n",
      "Processing record 109 of Set 10 | zaraza\n",
      "Processing record 110 of Set 10 | sangar\n",
      "Processing record 111 of Set 10 | homa bay\n",
      "Processing record 112 of Set 10 | culebra\n",
      "Processing record 113 of Set 10 | taltal\n",
      "Processing record 114 of Set 10 | saint george\n",
      "Processing record 115 of Set 10 | nerja\n",
      "City not found. Skipping...\n",
      "Processing record 117 of Set 10 | ormara\n",
      "Processing record 118 of Set 10 | tahoua\n",
      "Processing record 119 of Set 10 | araouane\n",
      "Processing record 120 of Set 10 | marzuq\n",
      "Processing record 121 of Set 10 | san rafael\n",
      "Processing record 122 of Set 10 | omaruru\n",
      "Processing record 123 of Set 10 | lalibela\n",
      "Processing record 124 of Set 10 | guilin\n",
      "Processing record 125 of Set 10 | yichun\n",
      "Processing record 126 of Set 10 | brae\n",
      "Processing record 127 of Set 10 | waipawa\n",
      "Processing record 128 of Set 10 | nyuksenitsa\n",
      "Processing record 129 of Set 10 | tagusao\n",
      "Processing record 130 of Set 10 | mendeleyevo\n",
      "Processing record 131 of Set 10 | marsa matruh\n",
      "Processing record 132 of Set 10 | uusikaupunki\n",
      "Processing record 133 of Set 10 | petropavlovsk-kamchatskiy\n",
      "Processing record 134 of Set 10 | narsaq\n",
      "Processing record 135 of Set 10 | sungaipenuh\n",
      "Processing record 136 of Set 10 | cururupu\n",
      "Processing record 137 of Set 10 | bubaque\n",
      "Processing record 138 of Set 10 | lahat\n",
      "Processing record 139 of Set 10 | bowen\n",
      "Processing record 140 of Set 10 | ust-uda\n",
      "Processing record 141 of Set 10 | ozinki\n",
      "Processing record 142 of Set 10 | sao joao da barra\n",
      "City not found. Skipping...\n",
      "Processing record 144 of Set 10 | shakhtne\n",
      "Processing record 145 of Set 10 | dawson creek\n",
      "Processing record 146 of Set 10 | ratnagiri\n",
      "Processing record 147 of Set 10 | erdenet\n",
      "Processing record 148 of Set 10 | kibala\n",
      "Processing record 149 of Set 10 | rio grande\n",
      "Processing record 150 of Set 10 | vanimo\n",
      "Processing record 151 of Set 10 | cadillac\n",
      "Processing record 152 of Set 10 | volksrust\n",
      "Processing record 153 of Set 10 | ziarat\n",
      "Processing record 154 of Set 10 | mezen\n",
      "Processing record 155 of Set 10 | kawalu\n",
      "City not found. Skipping...\n",
      "Processing record 157 of Set 10 | le port\n",
      "City not found. Skipping...\n",
      "Processing record 159 of Set 10 | tual\n",
      "Processing record 160 of Set 10 | abrau-dyurso\n",
      "Processing record 161 of Set 10 | albertville\n",
      "Processing record 162 of Set 10 | padang\n",
      "Processing record 163 of Set 10 | lamar\n",
      "End of data\n"
     ]
    }
   ],
   "source": [
    "#Perform API Calls\n",
    "#Perform weather check on each city using a series of successive API calls\n",
    "#Include a print log of each city as it's being process (with the city number and name)\n",
    "#setup lists to hold response info\n",
    "record = 0\n",
    "sets = 1\n",
    "cityname = []\n",
    "cloudiness = []\n",
    "country = []\n",
    "date = []\n",
    "humidity = []\n",
    "lat = []\n",
    "lng = []\n",
    "max_temp = []\n",
    "wind_speed = []\n",
    "\n",
    "#response = requests.get(query_url + city).json()\n",
    "#get list of cities and perform a request for data on each\n",
    "for city in cities:\n",
    "    record += 1\n",
    "    \n",
    "    base_url = \"http://api.openweathermap.org/data/2.5/weather?\"\n",
    "    query = base_url + \"appid=\" + weather_api_key + '&units=imperial' + \"&q=\" + city\n",
    "    \n",
    "    try:\n",
    "        response = requests.get(query)\n",
    "        city_json = response.json()\n",
    "        cityname.append(city_json['name'])\n",
    "        cloudiness.append(city_json['clouds']['all'])\n",
    "        country.append(city_json['sys']['country'])\n",
    "        date.append(city_json['dt'])\n",
    "        humidity.append(city_json['main']['humidity'])\n",
    "        lat.append(city_json['coord']['lat'])\n",
    "        lng.append(city_json['coord']['lon'])\n",
    "        max_temp.append(city_json['main']['temp_max'])\n",
    "        wind_speed.append(city_json['wind']['speed'])\n",
    "        if record == 50:\n",
    "            sets = sets + 1\n",
    "            record = 0\n",
    "        print(f'Processing record {record} of Set {sets} | {city}')\n",
    "    except:\n",
    "        print(f\"City not found. Skipping...\")\n",
    "        \n",
    "print(\"End of data\")\n",
    " \n"
   ]
  },
  {
   "cell_type": "markdown",
   "metadata": {},
   "source": [
    "### Convert Raw Data to DataFrame\n",
    "* Export the city data into a .csv.\n",
    "* Display the DataFrame"
   ]
  },
  {
   "cell_type": "code",
   "execution_count": 7,
   "metadata": {},
   "outputs": [],
   "source": [
    "#Turn appended lists into dictionary\n",
    "weather_dict = {'City':cityname,\n",
    "                'Cloudiness':cloudiness,\n",
    "                'Country':country,\n",
    "                'Date':date,\n",
    "                'Humidity':humidity,\n",
    "                'Latitude':lat,\n",
    "                'Longitude':lng,\n",
    "                'Max Temp':max_temp,\n",
    "                'Wind Speed':wind_speed}\n",
    "\n",
    "weather_df = pd.DataFrame(weather_dict)"
   ]
  },
  {
   "cell_type": "code",
   "execution_count": 8,
   "metadata": {},
   "outputs": [],
   "source": [
    "#export dataframe to csv\n",
    "weather_df.to_csv('city_weather.csv', index = None, header = True)\n",
    "#weather_df.to_csv(r'\\my_weather_data.csv)\n"
   ]
  },
  {
   "cell_type": "code",
   "execution_count": 9,
   "metadata": {},
   "outputs": [
    {
     "data": {
      "text/plain": [
       "City          556\n",
       "Cloudiness    556\n",
       "Country       556\n",
       "Date          556\n",
       "Humidity      556\n",
       "Latitude      556\n",
       "Longitude     556\n",
       "Max Temp      556\n",
       "Wind Speed    556\n",
       "dtype: int64"
      ]
     },
     "execution_count": 9,
     "metadata": {},
     "output_type": "execute_result"
    }
   ],
   "source": [
    "#counts for dataframe\n",
    "weather_df.count()"
   ]
  },
  {
   "cell_type": "code",
   "execution_count": 10,
   "metadata": {},
   "outputs": [
    {
     "data": {
      "text/html": [
       "<div>\n",
       "<style scoped>\n",
       "    .dataframe tbody tr th:only-of-type {\n",
       "        vertical-align: middle;\n",
       "    }\n",
       "\n",
       "    .dataframe tbody tr th {\n",
       "        vertical-align: top;\n",
       "    }\n",
       "\n",
       "    .dataframe thead th {\n",
       "        text-align: right;\n",
       "    }\n",
       "</style>\n",
       "<table border=\"1\" class=\"dataframe\">\n",
       "  <thead>\n",
       "    <tr style=\"text-align: right;\">\n",
       "      <th></th>\n",
       "      <th>City</th>\n",
       "      <th>Cloudiness</th>\n",
       "      <th>Country</th>\n",
       "      <th>Date</th>\n",
       "      <th>Humidity</th>\n",
       "      <th>Latitude</th>\n",
       "      <th>Longitude</th>\n",
       "      <th>Max Temp</th>\n",
       "      <th>Wind Speed</th>\n",
       "    </tr>\n",
       "  </thead>\n",
       "  <tbody>\n",
       "    <tr>\n",
       "      <th>0</th>\n",
       "      <td>Ghanzi</td>\n",
       "      <td>68</td>\n",
       "      <td>BW</td>\n",
       "      <td>1618589359</td>\n",
       "      <td>26</td>\n",
       "      <td>-21.5667</td>\n",
       "      <td>21.7833</td>\n",
       "      <td>78.93</td>\n",
       "      <td>7.58</td>\n",
       "    </tr>\n",
       "    <tr>\n",
       "      <th>1</th>\n",
       "      <td>Bredasdorp</td>\n",
       "      <td>0</td>\n",
       "      <td>ZA</td>\n",
       "      <td>1618589360</td>\n",
       "      <td>59</td>\n",
       "      <td>-34.5322</td>\n",
       "      <td>20.0403</td>\n",
       "      <td>64.40</td>\n",
       "      <td>21.85</td>\n",
       "    </tr>\n",
       "    <tr>\n",
       "      <th>2</th>\n",
       "      <td>Ushuaia</td>\n",
       "      <td>40</td>\n",
       "      <td>AR</td>\n",
       "      <td>1618589259</td>\n",
       "      <td>70</td>\n",
       "      <td>-54.8000</td>\n",
       "      <td>-68.3000</td>\n",
       "      <td>44.60</td>\n",
       "      <td>34.52</td>\n",
       "    </tr>\n",
       "    <tr>\n",
       "      <th>3</th>\n",
       "      <td>Margate</td>\n",
       "      <td>5</td>\n",
       "      <td>GB</td>\n",
       "      <td>1618589360</td>\n",
       "      <td>53</td>\n",
       "      <td>51.3813</td>\n",
       "      <td>1.3862</td>\n",
       "      <td>48.00</td>\n",
       "      <td>7.00</td>\n",
       "    </tr>\n",
       "    <tr>\n",
       "      <th>4</th>\n",
       "      <td>Bethel</td>\n",
       "      <td>90</td>\n",
       "      <td>US</td>\n",
       "      <td>1618589361</td>\n",
       "      <td>70</td>\n",
       "      <td>41.3712</td>\n",
       "      <td>-73.4140</td>\n",
       "      <td>44.60</td>\n",
       "      <td>6.91</td>\n",
       "    </tr>\n",
       "    <tr>\n",
       "      <th>5</th>\n",
       "      <td>Pochutla</td>\n",
       "      <td>1</td>\n",
       "      <td>MX</td>\n",
       "      <td>1618589361</td>\n",
       "      <td>35</td>\n",
       "      <td>15.7432</td>\n",
       "      <td>-96.4661</td>\n",
       "      <td>90.00</td>\n",
       "      <td>11.50</td>\n",
       "    </tr>\n",
       "    <tr>\n",
       "      <th>6</th>\n",
       "      <td>Lashio</td>\n",
       "      <td>100</td>\n",
       "      <td>MM</td>\n",
       "      <td>1618589361</td>\n",
       "      <td>56</td>\n",
       "      <td>22.9333</td>\n",
       "      <td>97.7500</td>\n",
       "      <td>71.28</td>\n",
       "      <td>0.98</td>\n",
       "    </tr>\n",
       "    <tr>\n",
       "      <th>7</th>\n",
       "      <td>Butaritari</td>\n",
       "      <td>100</td>\n",
       "      <td>KI</td>\n",
       "      <td>1618589362</td>\n",
       "      <td>74</td>\n",
       "      <td>3.0707</td>\n",
       "      <td>172.7902</td>\n",
       "      <td>81.07</td>\n",
       "      <td>5.70</td>\n",
       "    </tr>\n",
       "    <tr>\n",
       "      <th>8</th>\n",
       "      <td>Nioro</td>\n",
       "      <td>63</td>\n",
       "      <td>GM</td>\n",
       "      <td>1618589362</td>\n",
       "      <td>10</td>\n",
       "      <td>13.3500</td>\n",
       "      <td>-15.7500</td>\n",
       "      <td>104.95</td>\n",
       "      <td>5.93</td>\n",
       "    </tr>\n",
       "    <tr>\n",
       "      <th>9</th>\n",
       "      <td>Vangaindrano</td>\n",
       "      <td>42</td>\n",
       "      <td>MG</td>\n",
       "      <td>1618589362</td>\n",
       "      <td>87</td>\n",
       "      <td>-23.3500</td>\n",
       "      <td>47.6000</td>\n",
       "      <td>75.40</td>\n",
       "      <td>5.84</td>\n",
       "    </tr>\n",
       "  </tbody>\n",
       "</table>\n",
       "</div>"
      ],
      "text/plain": [
       "           City  Cloudiness Country        Date  Humidity  Latitude  \\\n",
       "0        Ghanzi          68      BW  1618589359        26  -21.5667   \n",
       "1    Bredasdorp           0      ZA  1618589360        59  -34.5322   \n",
       "2       Ushuaia          40      AR  1618589259        70  -54.8000   \n",
       "3       Margate           5      GB  1618589360        53   51.3813   \n",
       "4        Bethel          90      US  1618589361        70   41.3712   \n",
       "5      Pochutla           1      MX  1618589361        35   15.7432   \n",
       "6        Lashio         100      MM  1618589361        56   22.9333   \n",
       "7    Butaritari         100      KI  1618589362        74    3.0707   \n",
       "8         Nioro          63      GM  1618589362        10   13.3500   \n",
       "9  Vangaindrano          42      MG  1618589362        87  -23.3500   \n",
       "\n",
       "   Longitude  Max Temp  Wind Speed  \n",
       "0    21.7833     78.93        7.58  \n",
       "1    20.0403     64.40       21.85  \n",
       "2   -68.3000     44.60       34.52  \n",
       "3     1.3862     48.00        7.00  \n",
       "4   -73.4140     44.60        6.91  \n",
       "5   -96.4661     90.00       11.50  \n",
       "6    97.7500     71.28        0.98  \n",
       "7   172.7902     81.07        5.70  \n",
       "8   -15.7500    104.95        5.93  \n",
       "9    47.6000     75.40        5.84  "
      ]
     },
     "execution_count": 10,
     "metadata": {},
     "output_type": "execute_result"
    }
   ],
   "source": [
    "#Display Dataframe head\n",
    "weather_df.head(10)"
   ]
  },
  {
   "cell_type": "markdown",
   "metadata": {},
   "source": [
    "## Plotting the Data\n",
    "* Use proper labeling of the plots using plot titles (including date of analysis) and axes labels.\n",
    "* Save the plotted figures as .pngs."
   ]
  },
  {
   "cell_type": "markdown",
   "metadata": {},
   "source": [
    "## Latitude vs. Temperature Plot"
   ]
  },
  {
   "cell_type": "code",
   "execution_count": 48,
   "metadata": {
    "scrolled": true
   },
   "outputs": [
    {
     "data": {
      "image/png": "[encoded data removed]",
      "text/plain": [
       "<Figure size 432x288 with 1 Axes>"
      ]
     },
     "metadata": {
      "needs_background": "light"
     },
     "output_type": "display_data"
    }
   ],
   "source": [
    "#Build scatter plot Temperature vs Latitude\n",
    "#save the figure as .pngs\n",
    "#show plot\n",
    "\n",
    "scatlat = weather_df[\"Latitude\"]\n",
    "scattemp = weather_df[\"Max Temp\"]\n",
    "\n",
    "plt.scatter(scatlat,scattemp)\n",
    "plt.grid()\n",
    "plt.title('City Latitude vs. Max Temperature')\n",
    "plt.xlabel('Latitude')\n",
    "plt.ylabel('Max Temperature (F)')\n",
    "plt.savefig('LatitudeMaxTemp.png')\n",
    "plt.show()\n",
    "\n",
    "#This plot shows the relationship between latitude and temperature in cities. The chart shows the cities close to the equator\n",
    "#have a higher temperature. The farther away from the equator the lower the temperature."
   ]
  },
  {
   "cell_type": "markdown",
   "metadata": {},
   "source": [
    "## Latitude vs. Humidity Plot"
   ]
  },
  {
   "cell_type": "code",
   "execution_count": 50,
   "metadata": {},
   "outputs": [
    {
     "data": {
      "image/png": "[encoded data removed]",
      "text/plain": [
       "<Figure size 432x288 with 1 Axes>"
      ]
     },
     "metadata": {
      "needs_background": "light"
     },
     "output_type": "display_data"
    }
   ],
   "source": [
    "#Build the scatter plot for latitude vs humidity\n",
    "#Save the figure\n",
    "#Show plot\n",
    "\n",
    "#scatlat = weather_df[\"Latitude\"]\n",
    "scathum = weather_df[\"Humidity\"]\n",
    "\n",
    "plt.scatter(scatlat,scathum)\n",
    "plt.grid()\n",
    "plt.title('City Latitude vs. Humidity')\n",
    "plt.xlabel('Latitude')\n",
    "plt.ylabel('Humidity (%)')\n",
    "plt.savefig('LatitudeHumidity.png')\n",
    "plt.show()\n",
    "\n",
    "#This plot shows the latitide and humidity in selected cities. \n",
    "#The humidity varies 20-40 latitude with a gradual increase to a higher humidity the higher the latitude. "
   ]
  },
  {
   "cell_type": "markdown",
   "metadata": {},
   "source": [
    "## Latitude vs. Cloudiness Plot"
   ]
  },
  {
   "cell_type": "code",
   "execution_count": 51,
   "metadata": {},
   "outputs": [
    {
     "data": {
      "image/png": "[encoded data removed]",
      "text/plain": [
       "<Figure size 432x288 with 1 Axes>"
      ]
     },
     "metadata": {
      "needs_background": "light"
     },
     "output_type": "display_data"
    }
   ],
   "source": [
    "#Build the scatter plot for latitude vs cloudiness\n",
    "#Save the figure\n",
    "#Show plot\n",
    "\n",
    "#scatlat = weather_df[\"Latitude\"]\n",
    "scatcloud = weather_df[\"Cloudiness\"]\n",
    "\n",
    "plt.scatter(scatlat,scatcloud)\n",
    "plt.grid()\n",
    "plt.title('City Latitude vs. Humidity')\n",
    "plt.xlabel('Latitude')\n",
    "plt.ylabel('Cloudiness (%)')\n",
    "plt.savefig('LatitudeCloudiness.png')\n",
    "plt.show()\n",
    "\n",
    "#This plot shows the latitude and cloudiness n selected cities. \n",
    "#Latitude does not seem to affect cloudiness. "
   ]
  },
  {
   "cell_type": "markdown",
   "metadata": {},
   "source": [
    "## Latitude vs. Wind Speed Plot"
   ]
  },
  {
   "cell_type": "code",
   "execution_count": 53,
   "metadata": {},
   "outputs": [
    {
     "data": {
      "image/png": "[encoded data removed]",
      "text/plain": [
       "<Figure size 432x288 with 1 Axes>"
      ]
     },
     "metadata": {
      "needs_background": "light"
     },
     "output_type": "display_data"
    }
   ],
   "source": [
    "#Build the scatter plot for latitude vs humidity\n",
    "#Save the figure\n",
    "#Show plot\n",
    "\n",
    "#scatlat = weather_df[\"Latitude\"]\n",
    "scatwind = weather_df[\"Wind Speed\"]\n",
    "\n",
    "plt.scatter(scatlat,scatwind)\n",
    "plt.grid()\n",
    "plt.title('City Latitude vs. Wind Speed')\n",
    "plt.xlabel('Latitude')\n",
    "plt.ylabel('Wind Speed (mph)')\n",
    "plt.savefig('LatitudeWindSpeed.png')\n",
    "plt.show()\n",
    "\n",
    "#This plot shows the latitide and wind speed in selected cities. \n",
    "#The wind speed is stronger the higher the latitude."
   ]
  },
  {
   "cell_type": "markdown",
   "metadata": {},
   "source": [
    "## Linear Regression"
   ]
  },
  {
   "cell_type": "code",
   "execution_count": 12,
   "metadata": {},
   "outputs": [
    {
     "data": {
      "text/html": [
       "<div>\n",
       "<style scoped>\n",
       "    .dataframe tbody tr th:only-of-type {\n",
       "        vertical-align: middle;\n",
       "    }\n",
       "\n",
       "    .dataframe tbody tr th {\n",
       "        vertical-align: top;\n",
       "    }\n",
       "\n",
       "    .dataframe thead th {\n",
       "        text-align: right;\n",
       "    }\n",
       "</style>\n",
       "<table border=\"1\" class=\"dataframe\">\n",
       "  <thead>\n",
       "    <tr style=\"text-align: right;\">\n",
       "      <th></th>\n",
       "      <th>City</th>\n",
       "      <th>Cloudiness</th>\n",
       "      <th>Country</th>\n",
       "      <th>Date</th>\n",
       "      <th>Humidity</th>\n",
       "      <th>Latitude</th>\n",
       "      <th>Longitude</th>\n",
       "      <th>Max Temp</th>\n",
       "      <th>Wind Speed</th>\n",
       "    </tr>\n",
       "  </thead>\n",
       "  <tbody>\n",
       "    <tr>\n",
       "      <th>3</th>\n",
       "      <td>Margate</td>\n",
       "      <td>5</td>\n",
       "      <td>GB</td>\n",
       "      <td>1618589360</td>\n",
       "      <td>53</td>\n",
       "      <td>51.3813</td>\n",
       "      <td>1.3862</td>\n",
       "      <td>48.00</td>\n",
       "      <td>7.00</td>\n",
       "    </tr>\n",
       "    <tr>\n",
       "      <th>4</th>\n",
       "      <td>Bethel</td>\n",
       "      <td>90</td>\n",
       "      <td>US</td>\n",
       "      <td>1618589361</td>\n",
       "      <td>70</td>\n",
       "      <td>41.3712</td>\n",
       "      <td>-73.4140</td>\n",
       "      <td>44.60</td>\n",
       "      <td>6.91</td>\n",
       "    </tr>\n",
       "    <tr>\n",
       "      <th>5</th>\n",
       "      <td>Pochutla</td>\n",
       "      <td>1</td>\n",
       "      <td>MX</td>\n",
       "      <td>1618589361</td>\n",
       "      <td>35</td>\n",
       "      <td>15.7432</td>\n",
       "      <td>-96.4661</td>\n",
       "      <td>90.00</td>\n",
       "      <td>11.50</td>\n",
       "    </tr>\n",
       "    <tr>\n",
       "      <th>6</th>\n",
       "      <td>Lashio</td>\n",
       "      <td>100</td>\n",
       "      <td>MM</td>\n",
       "      <td>1618589361</td>\n",
       "      <td>56</td>\n",
       "      <td>22.9333</td>\n",
       "      <td>97.7500</td>\n",
       "      <td>71.28</td>\n",
       "      <td>0.98</td>\n",
       "    </tr>\n",
       "    <tr>\n",
       "      <th>7</th>\n",
       "      <td>Butaritari</td>\n",
       "      <td>100</td>\n",
       "      <td>KI</td>\n",
       "      <td>1618589362</td>\n",
       "      <td>74</td>\n",
       "      <td>3.0707</td>\n",
       "      <td>172.7902</td>\n",
       "      <td>81.07</td>\n",
       "      <td>5.70</td>\n",
       "    </tr>\n",
       "  </tbody>\n",
       "</table>\n",
       "</div>"
      ],
      "text/plain": [
       "         City  Cloudiness Country        Date  Humidity  Latitude  Longitude  \\\n",
       "3     Margate           5      GB  1618589360        53   51.3813     1.3862   \n",
       "4      Bethel          90      US  1618589361        70   41.3712   -73.4140   \n",
       "5    Pochutla           1      MX  1618589361        35   15.7432   -96.4661   \n",
       "6      Lashio         100      MM  1618589361        56   22.9333    97.7500   \n",
       "7  Butaritari         100      KI  1618589362        74    3.0707   172.7902   \n",
       "\n",
       "   Max Temp  Wind Speed  \n",
       "3     48.00        7.00  \n",
       "4     44.60        6.91  \n",
       "5     90.00       11.50  \n",
       "6     71.28        0.98  \n",
       "7     81.07        5.70  "
      ]
     },
     "execution_count": 12,
     "metadata": {},
     "output_type": "execute_result"
    }
   ],
   "source": [
    "#Set up Northern and Southern Hemisphere Dataframes\n",
    "\n",
    "#Northern Hemisphere (Lat >= 0)\n",
    "weather_df_north = weather_df[weather_df['Latitude'] >= 0]\n",
    "\n",
    "#Southern Hemisphere (Lat < 0)\n",
    "weather_df_south = weather_df[weather_df['Latitude'] < 0]\n",
    "\n",
    "weather_df_north.head()"
   ]
  },
  {
   "cell_type": "markdown",
   "metadata": {},
   "source": [
    "####  Northern Hemisphere - Max Temp vs. Latitude Linear Regression"
   ]
  },
  {
   "cell_type": "code",
   "execution_count": 63,
   "metadata": {},
   "outputs": [
    {
     "data": {
      "image/png": "[encoded data removed]",
      "text/plain": [
       "<Figure size 432x288 with 1 Axes>"
      ]
     },
     "metadata": {
      "needs_background": "light"
     },
     "output_type": "display_data"
    }
   ],
   "source": [
    "#Set up linear regression and line equation\n",
    "x_values = weather_df_north['Latitude']\n",
    "y_values = weather_df_north['Max Temp']\n",
    "(slope, intercept, rvalue, pvalue, stderr) = linregress(x_values, y_values)\n",
    "regress_values = x_values * slope + intercept\n",
    "line_eq = \"y = \" + str(round(slope,2)) + \"x + \" + str(round(intercept,2))\n",
    "\n",
    "plt.scatter(x_values,y_values)\n",
    "plt.plot(x_values, regress_values, \"r-\")\n",
    "plt.annotate(line_eq, xy=(0,30),fontsize=14,color=\"red\")\n",
    "plt.grid()\n",
    "plt.title('Temperature (F) vs. Latitude (north)')\n",
    "plt.xlabel('Latitude')\n",
    "plt.ylabel('Max Temp')\n",
    "plt.show()\n"
   ]
  },
  {
   "cell_type": "markdown",
   "metadata": {},
   "source": [
    "####  Southern Hemisphere - Max Temp vs. Latitude Linear Regression"
   ]
  },
  {
   "cell_type": "code",
   "execution_count": 64,
   "metadata": {},
   "outputs": [
    {
     "data": {
      "image/png": "[encoded data removed]",
      "text/plain": [
       "<Figure size 432x288 with 1 Axes>"
      ]
     },
     "metadata": {
      "needs_background": "light"
     },
     "output_type": "display_data"
    },
    {
     "name": "stdout",
     "output_type": "stream",
     "text": [
      "The high r value indicates a strong positive correlation between lattitude and max temperature.\n"
     ]
    }
   ],
   "source": [
    "#Set up linear regression and line equation\n",
    "x_values = weather_df_south['Latitude']\n",
    "y_values = weather_df_south['Max Temp']\n",
    "(slope, intercept, rvalue, pvalue, stderr) = linregress(x_values, y_values)\n",
    "regress_values = x_values * slope + intercept\n",
    "line_eq = \"y = \" + str(round(slope,2)) + \"x + \" + str(round(intercept,2))\n",
    "\n",
    "plt.scatter(x_values,y_values)\n",
    "plt.plot(x_values, regress_values, \"r-\")\n",
    "plt.annotate(line_eq, xy=(-50,80),fontsize=14,color=\"red\")\n",
    "plt.grid()\n",
    "plt.title('Temperature (F) vs. Latitude (south)')\n",
    "plt.xlabel('Latitude')\n",
    "plt.ylabel('Max Temp')\n",
    "plt.show()\n",
    "\n",
    "print(\"The high r value indicates a strong positive correlation between lattitude and max temperature.\")"
   ]
  },
  {
   "cell_type": "markdown",
   "metadata": {},
   "source": [
    "####  Northern Hemisphere - Humidity (%) vs. Latitude Linear Regression"
   ]
  },
  {
   "cell_type": "code",
   "execution_count": 65,
   "metadata": {},
   "outputs": [
    {
     "data": {
      "image/png": "[encoded data removed]",
      "text/plain": [
       "<Figure size 432x288 with 1 Axes>"
      ]
     },
     "metadata": {
      "needs_background": "light"
     },
     "output_type": "display_data"
    },
    {
     "name": "stdout",
     "output_type": "stream",
     "text": [
      "The high r value indicates a strong positive correlation....\n"
     ]
    }
   ],
   "source": [
    "x_values = weather_df_north['Latitude']\n",
    "y_values = weather_df_north['Humidity']\n",
    "(slope, intercept, rvalue, pvalue, stderr) = linregress(x_values, y_values)\n",
    "regress_values = x_values * slope + intercept\n",
    "line_eq = \"y = \" + str(round(slope,2)) + \"x + \" + str(round(intercept,2))\n",
    "\n",
    "plt.scatter(x_values,y_values)\n",
    "plt.plot(x_values, regress_values, \"r-\")\n",
    "plt.annotate(line_eq, xy=(5,20),fontsize=15,color=\"red\")\n",
    "plt.grid()\n",
    "plt.title('Humidity vs. Latitude (north)')\n",
    "plt.xlabel('Latitude')\n",
    "plt.ylabel('Humidity (%)')\n",
    "plt.show()\n",
    "\n",
    "print(\"The high r value indicates a strong positive correlation....\")"
   ]
  },
  {
   "cell_type": "markdown",
   "metadata": {},
   "source": [
    "####  Southern Hemisphere - Humidity (%) vs. Latitude Linear Regression"
   ]
  },
  {
   "cell_type": "code",
   "execution_count": 28,
   "metadata": {},
   "outputs": [
    {
     "name": "stdout",
     "output_type": "stream",
     "text": [
      "The r-value is: 0.014985174297345524\n"
     ]
    },
    {
     "data": {
      "image/png": "[encoded data removed]",
      "text/plain": [
       "<Figure size 432x288 with 1 Axes>"
      ]
     },
     "metadata": {
      "needs_background": "light"
     },
     "output_type": "display_data"
    }
   ],
   "source": [
    "x_values = weather_df_north['Latitude']\n",
    "y_values = weather_df_north['Humidity']\n",
    "(slope, intercept, rvalue, pvalue, stderr) = linregress(x_values, y_values)\n",
    "regress_values = x_values * slope + intercept\n",
    "line_eq = \"y = \" + str(round(slope,2)) + \"x + \" + str(round(intercept,2))\n",
    "\n",
    "plt.scatter(x_values,y_values)\n",
    "plt.plot(x_values, regress_values, \"r-\")\n",
    "plt.annotate(line_eq, xy=(5,20),fontsize=15,color=\"red\")\n",
    "plt.grid()\n",
    "plt.title('Humidity vs. Latitude (north)')\n",
    "plt.xlabel('Latitude')\n",
    "plt.ylabel('Humidity (%)')\n",
    "plt.show()\n",
    "\n",
    "print(\"The high r value indicates a strong positive correlation....\")"
   ]
  },
  {
   "cell_type": "markdown",
   "metadata": {},
   "source": [
    "####  Northern Hemisphere - Cloudiness (%) vs. Latitude Linear Regression"
   ]
  },
  {
   "cell_type": "code",
   "execution_count": 14,
   "metadata": {},
   "outputs": [
    {
     "data": {
      "image/png": "[encoded data removed]",
      "text/plain": [
       "<Figure size 432x288 with 1 Axes>"
      ]
     },
     "metadata": {
      "needs_background": "light"
     },
     "output_type": "display_data"
    },
    {
     "name": "stdout",
     "output_type": "stream",
     "text": [
      "The high r value indicates a strong positive correlation....\n"
     ]
    }
   ],
   "source": [
    "x_values = weather_df_north['Latitude']\n",
    "y_values = weather_df_north['Cloudiness']\n",
    "(slope, intercept, rvalue, pvalue, stderr) = linregress(x_values, y_values)\n",
    "regress_values = x_values * slope + intercept\n",
    "line_eq = \"y = \" + str(round(slope,2)) + \"x + \" + str(round(intercept,2))\n",
    "\n",
    "plt.scatter(x_values,y_values)\n",
    "plt.plot(x_values, regress_values, \"r-\")\n",
    "plt.annotate(line_eq, xy=(6,30),fontsize=15,color=\"red\")\n",
    "plt.grid()\n",
    "plt.title('Cloudiness vs. Latitude (north)')\n",
    "plt.xlabel('Latitude')\n",
    "plt.ylabel('Cloudiness')\n",
    "plt.show()\n",
    "\n",
    "print(\"The high r value indicates a strong positive correlation....\")"
   ]
  },
  {
   "cell_type": "markdown",
   "metadata": {},
   "source": [
    "####  Southern Hemisphere - Cloudiness (%) vs. Latitude Linear Regression"
   ]
  },
  {
   "cell_type": "code",
   "execution_count": 17,
   "metadata": {},
   "outputs": [
    {
     "data": {
      "image/png": "[encoded data removed]",
      "text/plain": [
       "<Figure size 432x288 with 1 Axes>"
      ]
     },
     "metadata": {
      "needs_background": "light"
     },
     "output_type": "display_data"
    },
    {
     "name": "stdout",
     "output_type": "stream",
     "text": [
      "The high r value indicates a strong positive correlation....\n"
     ]
    }
   ],
   "source": [
    "x_values = weather_df_south['Latitude']\n",
    "y_values = weather_df_south['Cloudiness']\n",
    "(slope, intercept, rvalue, pvalue, stderr) = linregress(x_values, y_values)\n",
    "regress_values = x_values * slope + intercept\n",
    "line_eq = \"y = \" + str(round(slope,2)) + \"x + \" + str(round(intercept,2))\n",
    "\n",
    "plt.scatter(x_values,y_values)\n",
    "plt.plot(x_values, regress_values, \"r-\")\n",
    "plt.annotate(line_eq, xy=(-55,35),fontsize=15,color=\"red\")\n",
    "plt.grid()\n",
    "plt.title('Cloudiness vs. Latitude (south)')\n",
    "plt.xlabel('Latitude')\n",
    "plt.ylabel('Cloudiness')\n",
    "plt.show()\n",
    "\n",
    "print(\"The high r value indicates a strong positive correlation....\")"
   ]
  },
  {
   "cell_type": "markdown",
   "metadata": {},
   "source": [
    "####  Northern Hemisphere - Wind Speed (mph) vs. Latitude Linear Regression"
   ]
  },
  {
   "cell_type": "code",
   "execution_count": 22,
   "metadata": {},
   "outputs": [
    {
     "data": {
      "image/png": "[encoded data removed]",
      "text/plain": [
       "<Figure size 432x288 with 1 Axes>"
      ]
     },
     "metadata": {
      "needs_background": "light"
     },
     "output_type": "display_data"
    },
    {
     "name": "stdout",
     "output_type": "stream",
     "text": [
      "The high r value indicates a strong positive correlation....\n"
     ]
    }
   ],
   "source": [
    "x_values = weather_df_north['Latitude']\n",
    "y_values = weather_df_north['Wind Speed']\n",
    "(slope, intercept, rvalue, pvalue, stderr) = linregress(x_values, y_values)\n",
    "regress_values = x_values * slope + intercept\n",
    "line_eq = \"y = \" + str(round(slope,2)) + \"x + \" + str(round(intercept,2))\n",
    "\n",
    "plt.scatter(x_values,y_values)\n",
    "plt.plot(x_values, regress_values, \"r-\")\n",
    "plt.annotate(line_eq, xy=(5,20),fontsize=15,color=\"red\")\n",
    "plt.grid()\n",
    "plt.title('Wind Speed vs. Latitude (north)')\n",
    "plt.xlabel('Latitude')\n",
    "plt.ylabel('Wind Speed')\n",
    "plt.show()\n",
    "\n",
    "print(\"The high r value indicates a strong positive correlation....\")"
   ]
  },
  {
   "cell_type": "markdown",
   "metadata": {},
   "source": [
    "####  Southern Hemisphere - Wind Speed (mph) vs. Latitude Linear Regression"
   ]
  },
  {
   "cell_type": "code",
   "execution_count": 23,
   "metadata": {},
   "outputs": [
    {
     "data": {
      "image/png": "[encoded data removed]",
      "text/plain": [
       "<Figure size 432x288 with 1 Axes>"
      ]
     },
     "metadata": {
      "needs_background": "light"
     },
     "output_type": "display_data"
    },
    {
     "name": "stdout",
     "output_type": "stream",
     "text": [
      "The high r value indicates a strong positive correlation....\n"
     ]
    }
   ],
   "source": [
    "x_values = weather_df_south['Latitude']\n",
    "y_values = weather_df_south['Wind Speed']\n",
    "(slope, intercept, rvalue, pvalue, stderr) = linregress(x_values, y_values)\n",
    "regress_values = x_values * slope + intercept\n",
    "line_eq = \"y = \" + str(round(slope,2)) + \"x + \" + str(round(intercept,2))\n",
    "\n",
    "plt.scatter(x_values,y_values)\n",
    "plt.plot(x_values, regress_values, \"r-\")\n",
    "plt.annotate(line_eq, xy=(-50,20),fontsize=15,color=\"red\")\n",
    "plt.grid()\n",
    "plt.title('Wind Speed vs. Latitude (south)')\n",
    "plt.xlabel('Latitude')\n",
    "plt.ylabel('Wind Speed')\n",
    "plt.show()\n",
    "\n",
    "print(\"The high r value indicates a strong positive correlation....\")"
   ]
  },
  {
   "cell_type": "code",
   "execution_count": null,
   "metadata": {},
   "outputs": [],
   "source": []
  }
 ],
 "metadata": {
  "anaconda-cloud": {},
  "kernel_info": {
   "name": "python3"
  },
  "kernelspec": {
   "display_name": "Python 3",
   "language": "python",
   "name": "python3"
  },
  "language_info": {
   "codemirror_mode": {
    "name": "ipython",
    "version": 3
   },
   "file_extension": ".py",
   "mimetype": "text/x-python",
   "name": "python",
   "nbconvert_exporter": "python",
   "pygments_lexer": "ipython3",
   "version": "3.8.5"
  },
  "latex_envs": {
   "LaTeX_envs_menu_present": true,
   "autoclose": false,
   "autocomplete": true,
   "bibliofile": "biblio.bib",
   "cite_by": "apalike",
   "current_citInitial": 1,
   "eqLabelWithNumbers": true,
   "eqNumInitial": 1,
   "hotkeys": {
    "equation": "Ctrl-E",
    "itemize": "Ctrl-I"
   },
   "labels_anchors": false,
   "latex_user_defs": false,
   "report_style_numbering": false,
   "user_envs_cfg": false
  },
  "nteract": {
   "version": "0.12.3"
  }
 },
 "nbformat": 4,
 "nbformat_minor": 2
}
